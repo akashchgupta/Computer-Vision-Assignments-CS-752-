{
  "nbformat": 4,
  "nbformat_minor": 0,
  "metadata": {
    "colab": {
      "name": "CS-752 ASSIGNMENT 1.ipynb",
      "provenance": [],
      "collapsed_sections": [],
      "authorship_tag": "ABX9TyNzid0ynZJBINBuG4eDE5ON",
      "include_colab_link": true
    },
    "kernelspec": {
      "name": "python3",
      "display_name": "Python 3"
    },
    "language_info": {
      "name": "python"
    }
  },
  "cells": [
    {
      "cell_type": "markdown",
      "metadata": {
        "id": "view-in-github",
        "colab_type": "text"
      },
      "source": [
        "<a href=\"https://colab.research.google.com/github/akashchgupta/Computer-Vision-Assignments-CS-752-/blob/main/CS_752_ASSIGNMENT_1.ipynb\" target=\"_parent\"><img src=\"https://colab.research.google.com/assets/colab-badge.svg\" alt=\"Open In Colab\"/></a>"
      ]
    },
    {
      "cell_type": "markdown",
      "metadata": {
        "id": "8zxVSFXHB-0G"
      },
      "source": [
        "Submitted by: Akash Chandra Gupta"
      ]
    },
    {
      "cell_type": "code",
      "metadata": {
        "id": "ehvXqYf-FhYf"
      },
      "source": [
        "from google.colab import drive\n",
        "drive.mount('/content/drive')"
      ],
      "execution_count": null,
      "outputs": []
    },
    {
      "cell_type": "markdown",
      "metadata": {
        "id": "VOtnthf_A-DL"
      },
      "source": [
        "### Import OpenCV library\n"
      ]
    },
    {
      "cell_type": "code",
      "metadata": {
        "id": "0IGjG5fh4LSl"
      },
      "source": [
        "import cv2 "
      ],
      "execution_count": null,
      "outputs": []
    },
    {
      "cell_type": "markdown",
      "metadata": {
        "id": "HbhFz0v-_8vB"
      },
      "source": [
        "### Read an image using *imread()* method\n"
      ]
    },
    {
      "cell_type": "code",
      "metadata": {
        "id": "QxSe_1R2AM8o"
      },
      "source": [
        "# loads and read an image from path to file\n",
        "img =  cv2.imread('images/scss.jpg')"
      ],
      "execution_count": null,
      "outputs": []
    },
    {
      "cell_type": "markdown",
      "metadata": {
        "id": "eLxQKT4iAQ0s"
      },
      "source": [
        "### Convert a colored image to grayscale image using *cvtColor()* method"
      ]
    },
    {
      "cell_type": "code",
      "metadata": {
        "id": "lwh7vsiNAbIL"
      },
      "source": [
        "# convert the color to grayscale \n",
        "gray = cv2.cvtColor(img, cv2.COLOR_BGR2GRAY)"
      ],
      "execution_count": null,
      "outputs": []
    },
    {
      "cell_type": "markdown",
      "metadata": {
        "id": "p0ZCrLp3AgB9"
      },
      "source": [
        "### Write an image using *imwrite()* method"
      ]
    },
    {
      "cell_type": "code",
      "metadata": {
        "id": "r-bygevMAx1l"
      },
      "source": [
        "# write the grayscale image\n",
        "cv2.imwrite(\"images/gray_scss.jpg\", gray)"
      ],
      "execution_count": null,
      "outputs": []
    },
    {
      "cell_type": "markdown",
      "metadata": {
        "id": "98GhNjcC9vhu"
      },
      "source": [
        "### Dispaly the image using *imshow()* method\n",
        "\n",
        "But *imshow()* method is disabled on Google Colab. Therefore, the code is commented out. \n",
        "\n",
        "Try this code on a system installation.\n",
        "\n",
        "*waitKey()*: Keep the window open until it is closed.\n",
        "\n",
        "*destroyAllWindows()*: Destroy the memory reserved for displaying the image after the window is closed."
      ]
    },
    {
      "cell_type": "code",
      "metadata": {
        "id": "rhEhSX3p9t2N"
      },
      "source": [
        "# displays the grayscale image\n",
        "# cv2.imshow(\"Image\",gray)\n",
        "\n",
        "# keeps the window open\n",
        "# cv2.waitKey(0)\n",
        "\n",
        "# clears all window buffers after it is closed\n",
        "# cv2.destroyAllWindows()"
      ],
      "execution_count": null,
      "outputs": []
    }
  ]
}